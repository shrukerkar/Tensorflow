{
 "cells": [
  {
   "cell_type": "code",
   "execution_count": 40,
   "metadata": {},
   "outputs": [
    {
     "data": {
      "text/plain": [
       "'1.12.0'"
      ]
     },
     "execution_count": 40,
     "metadata": {},
     "output_type": "execute_result"
    }
   ],
   "source": [
    "import tensorflow as tf\n",
    "from tensorflow import keras\n",
    "import os\n",
    "tf.__version__"
   ]
  },
  {
   "cell_type": "code",
   "execution_count": 41,
   "metadata": {},
   "outputs": [],
   "source": [
    "#Example Dataset\n",
    "(train_images,train_labels),(test_images,test_labels)=tf.keras.datasets.mnist.load_data()\n",
    "train_labels=train_labels[:1000]\n",
    "test_labels=test_labels[:1000]\n"
   ]
  },
  {
   "cell_type": "code",
   "execution_count": 42,
   "metadata": {},
   "outputs": [
    {
     "name": "stdout",
     "output_type": "stream",
     "text": [
      "[[0. 0. 0. ... 0. 0. 0.]\n",
      " [0. 0. 0. ... 0. 0. 0.]\n",
      " [0. 0. 0. ... 0. 0. 0.]\n",
      " ...\n",
      " [0. 0. 0. ... 0. 0. 0.]\n",
      " [0. 0. 0. ... 0. 0. 0.]\n",
      " [0. 0. 0. ... 0. 0. 0.]]\n",
      "[[0. 0. 0. ... 0. 0. 0.]\n",
      " [0. 0. 0. ... 0. 0. 0.]\n",
      " [0. 0. 0. ... 0. 0. 0.]\n",
      " ...\n",
      " [0. 0. 0. ... 0. 0. 0.]\n",
      " [0. 0. 0. ... 0. 0. 0.]\n",
      " [0. 0. 0. ... 0. 0. 0.]]\n"
     ]
    }
   ],
   "source": [
    "train_images=train_images[:1000].reshape(-1,28*28)/255.0\n",
    "test_images=test_images[:1000].reshape(-1,28*28)/255.0\n",
    "print(train_images)\n",
    "print(test_images)"
   ]
  },
  {
   "cell_type": "code",
   "execution_count": 43,
   "metadata": {},
   "outputs": [
    {
     "name": "stdout",
     "output_type": "stream",
     "text": [
      "_________________________________________________________________\n",
      "Layer (type)                 Output Shape              Param #   \n",
      "=================================================================\n",
      "dense_24 (Dense)             (None, 512)               401920    \n",
      "_________________________________________________________________\n",
      "dropout_12 (Dropout)         (None, 512)               0         \n",
      "_________________________________________________________________\n",
      "dense_25 (Dense)             (None, 10)                5130      \n",
      "=================================================================\n",
      "Total params: 407,050\n",
      "Trainable params: 407,050\n",
      "Non-trainable params: 0\n",
      "_________________________________________________________________\n"
     ]
    }
   ],
   "source": [
    "#Define Model\n",
    "def create_model():\n",
    "    model=tf.keras.Sequential([\n",
    "        keras.layers.Dense(512,activation=tf.nn.relu,input_shape=(784,)),\n",
    "        keras.layers.Dropout(0.2),\n",
    "        keras.layers.Dense(10,activation=tf.nn.softmax)\n",
    "    ])\n",
    "    model.compile(optimizer=tf.train.AdamOptimizer(),\n",
    "                  loss=tf.keras.losses.sparse_categorical_crossentropy,\n",
    "                  metrics=['accuracy'])\n",
    "    return model\n",
    "\n",
    "model=create_model()\n",
    "model.summary()"
   ]
  },
  {
   "cell_type": "code",
   "execution_count": 44,
   "metadata": {},
   "outputs": [],
   "source": [
    "#Save CheckPoints During training\n",
    "checkpoint_path='/home/shruti/TensorflowSaveAndRestoreModel'\n",
    "checkpoint_dir= os.path.dirname(checkpoint_path)"
   ]
  },
  {
   "cell_type": "code",
   "execution_count": 45,
   "metadata": {},
   "outputs": [
    {
     "name": "stdout",
     "output_type": "stream",
     "text": [
      "Train on 1000 samples, validate on 1000 samples\n",
      "Epoch 1/10\n",
      " 544/1000 [===============>..............] - ETA: 0s - loss: 1.5369 - acc: 0.5643 \n",
      "Epoch 00001: saving model to /home/shruti/TensorflowSaveAndRestoreModel\n",
      "1000/1000 [==============================] - 1s 694us/step - loss: 1.1801 - acc: 0.6650 - val_loss: 0.7216 - val_acc: 0.7870\n",
      "Epoch 2/10\n",
      " 992/1000 [============================>.] - ETA: 0s - loss: 0.4542 - acc: 0.8659\n",
      "Epoch 00002: saving model to /home/shruti/TensorflowSaveAndRestoreModel\n",
      "1000/1000 [==============================] - 0s 163us/step - loss: 0.4547 - acc: 0.8660 - val_loss: 0.5337 - val_acc: 0.8250\n",
      "Epoch 3/10\n",
      " 992/1000 [============================>.] - ETA: 0s - loss: 0.3000 - acc: 0.9183\n",
      "Epoch 00003: saving model to /home/shruti/TensorflowSaveAndRestoreModel\n",
      "1000/1000 [==============================] - 0s 169us/step - loss: 0.2984 - acc: 0.9190 - val_loss: 0.4625 - val_acc: 0.8500\n",
      "Epoch 4/10\n",
      " 960/1000 [===========================>..] - ETA: 0s - loss: 0.2080 - acc: 0.9490\n",
      "Epoch 00004: saving model to /home/shruti/TensorflowSaveAndRestoreModel\n",
      "1000/1000 [==============================] - 0s 165us/step - loss: 0.2098 - acc: 0.9480 - val_loss: 0.4286 - val_acc: 0.8570\n",
      "Epoch 5/10\n",
      " 960/1000 [===========================>..] - ETA: 0s - loss: 0.1566 - acc: 0.9656\n",
      "Epoch 00005: saving model to /home/shruti/TensorflowSaveAndRestoreModel\n",
      "1000/1000 [==============================] - 0s 168us/step - loss: 0.1564 - acc: 0.9660 - val_loss: 0.4124 - val_acc: 0.8630\n",
      "Epoch 6/10\n",
      " 960/1000 [===========================>..] - ETA: 0s - loss: 0.1223 - acc: 0.9760\n",
      "Epoch 00006: saving model to /home/shruti/TensorflowSaveAndRestoreModel\n",
      "1000/1000 [==============================] - 0s 167us/step - loss: 0.1221 - acc: 0.9760 - val_loss: 0.4143 - val_acc: 0.8580\n",
      "Epoch 7/10\n",
      " 960/1000 [===========================>..] - ETA: 0s - loss: 0.0910 - acc: 0.9875\n",
      "Epoch 00007: saving model to /home/shruti/TensorflowSaveAndRestoreModel\n",
      "1000/1000 [==============================] - 0s 169us/step - loss: 0.0904 - acc: 0.9880 - val_loss: 0.4225 - val_acc: 0.8570\n",
      "Epoch 8/10\n",
      " 992/1000 [============================>.] - ETA: 0s - loss: 0.0776 - acc: 0.9899\n",
      "Epoch 00008: saving model to /home/shruti/TensorflowSaveAndRestoreModel\n",
      "1000/1000 [==============================] - 0s 164us/step - loss: 0.0772 - acc: 0.9900 - val_loss: 0.4107 - val_acc: 0.8580\n",
      "Epoch 9/10\n",
      " 960/1000 [===========================>..] - ETA: 0s - loss: 0.0544 - acc: 0.9938\n",
      "Epoch 00009: saving model to /home/shruti/TensorflowSaveAndRestoreModel\n",
      "1000/1000 [==============================] - 0s 172us/step - loss: 0.0544 - acc: 0.9940 - val_loss: 0.4230 - val_acc: 0.8570\n",
      "Epoch 10/10\n",
      " 928/1000 [==========================>...] - ETA: 0s - loss: 0.0464 - acc: 0.9989\n",
      "Epoch 00010: saving model to /home/shruti/TensorflowSaveAndRestoreModel\n",
      "1000/1000 [==============================] - 0s 177us/step - loss: 0.0469 - acc: 0.9990 - val_loss: 0.4050 - val_acc: 0.8700\n"
     ]
    },
    {
     "data": {
      "text/plain": [
       "<tensorflow.python.keras.callbacks.History at 0x7f42a8d504e0>"
      ]
     },
     "execution_count": 45,
     "metadata": {},
     "output_type": "execute_result"
    }
   ],
   "source": [
    "cp_callback=tf.keras.callbacks.ModelCheckpoint(checkpoint_path,save_weights_only=True,verbose=1)\n",
    "model=create_model()\n",
    "model.fit(train_images,train_labels,epochs=10,validation_data=(test_images,test_labels),callbacks=[cp_callback])"
   ]
  },
  {
   "cell_type": "code",
   "execution_count": 46,
   "metadata": {},
   "outputs": [
    {
     "name": "stdout",
     "output_type": "stream",
     "text": [
      "2018-09-20-07-29-20.030-VBoxSVC-3280.log\r\n",
      "anaconda\r\n",
      "anaconda3\r\n",
      "Anaconda3-5.2.0-Linux-x86_64.sh\r\n",
      "checkpoint\r\n",
      "Desktop\r\n",
      "Documents\r\n",
      "Downloads\r\n",
      "examples.desktop\r\n",
      "google-chrome-stable_current_amd64.deb\r\n",
      "java_error_in_PYCHARM_3646.log\r\n",
      "java_error_in_PYCHARM_4596.log\r\n",
      "java_error_in_PYCHARM.hprof\r\n",
      "Machine-Learning\r\n",
      "ML-Fellowship\r\n",
      "Music\r\n",
      "nltk_data\r\n",
      "octave-workspace\r\n",
      "Old Firefox Data\r\n",
      "Pictures\r\n",
      "Public\r\n",
      "PycharmProjects\r\n",
      "python.json\r\n",
      "README.md\r\n",
      "rtl8723de\r\n",
      "rtlwifi_new\r\n",
      "seaborn-data\r\n",
      "snap\r\n",
      "_sysconfigdata_nd.py\r\n",
      "Templates\r\n",
      "TensorflowSaveAndRestoreModel.data-00000-of-00001\r\n",
      "TensorflowSaveAndRestoreModel.index\r\n",
      "TensorflowSaveAndRestoreModel.ipynb\r\n",
      "Videos\r\n"
     ]
    }
   ],
   "source": [
    "!ls {checkpoint_dir}"
   ]
  },
  {
   "cell_type": "code",
   "execution_count": 47,
   "metadata": {},
   "outputs": [
    {
     "name": "stdout",
     "output_type": "stream",
     "text": [
      "1000/1000 [==============================] - 0s 306us/step\n",
      "Restored Model,Accuracy: 9.30%\n"
     ]
    }
   ],
   "source": [
    "model=create_model()\n",
    "\n",
    "loss,acc=model.evaluate(test_images,test_labels)\n",
    "print(\"Restored Model,Accuracy:{:5.2f}%\".format(100*acc))\n"
   ]
  },
  {
   "cell_type": "code",
   "execution_count": 48,
   "metadata": {},
   "outputs": [
    {
     "data": {
      "text/plain": [
       "'/home/shruti/TensorflowSaveAndRestoreModel'"
      ]
     },
     "execution_count": 48,
     "metadata": {},
     "output_type": "execute_result"
    }
   ],
   "source": [
    "latest = tf.train.latest_checkpoint(checkpoint_dir)\n",
    "latest"
   ]
  },
  {
   "cell_type": "code",
   "execution_count": null,
   "metadata": {},
   "outputs": [],
   "source": [
    "\n"
   ]
  },
  {
   "cell_type": "code",
   "execution_count": null,
   "metadata": {},
   "outputs": [],
   "source": []
  }
 ],
 "metadata": {
  "kernelspec": {
   "display_name": "Python 3",
   "language": "python",
   "name": "python3"
  },
  "language_info": {
   "codemirror_mode": {
    "name": "ipython",
    "version": 3
   },
   "file_extension": ".py",
   "mimetype": "text/x-python",
   "name": "python",
   "nbconvert_exporter": "python",
   "pygments_lexer": "ipython3",
   "version": "3.6.5"
  }
 },
 "nbformat": 4,
 "nbformat_minor": 2
}
